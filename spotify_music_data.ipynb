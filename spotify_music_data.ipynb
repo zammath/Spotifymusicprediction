{
  "cells": [
    {
      "cell_type": "code",
      "execution_count": null,
      "metadata": {
        "id": "A0kP2fx6ugT2"
      },
      "outputs": [],
      "source": [
        "#Load the Libraries\n",
        "import numpy as np\n",
        "import pandas as pd\n",
        "import matplotlib.pyplot as plt\n",
        "%matplotlib inline\n",
        "import seaborn as sns"
      ]
    },
    {
      "cell_type": "code",
      "execution_count": null,
      "metadata": {
        "colab": {
          "base_uri": "https://localhost:8080/"
        },
        "id": "vfrpQUEkuyrU",
        "outputId": "9a92c73f-4bc3-4741-8ee2-63a9cf659143"
      },
      "outputs": [
        {
          "name": "stdout",
          "output_type": "stream",
          "text": [
            "Mounted at /content/drive\n"
          ]
        }
      ],
      "source": [
        "from google.colab import drive\n",
        "drive.mount('/content/drive')"
      ]
    },
    {
      "cell_type": "code",
      "execution_count": null,
      "metadata": {
        "id": "io0uXwGAvRzU"
      },
      "outputs": [],
      "source": [
        "tf_data = pd.concat(\n",
        "    map(pd.read_csv, ['/content/drive/MyDrive/Track_Features/tf_000000000001.csv', '/content/drive/MyDrive/Track_Features/tf_mini.csv.gz','/content/drive/MyDrive/Track_Features/tf_000000000000.csv']), ignore_index=True)\n",
        "print(tf_data)"
      ]
    },
    {
      "cell_type": "code",
      "execution_count": null,
      "metadata": {
        "id": "59RYKwTrvhuD"
      },
      "outputs": [],
      "source": [
        "#Checking the null values in track feature data\n",
        "tf_data.isnull().sum()"
      ]
    },
    {
      "cell_type": "code",
      "execution_count": null,
      "metadata": {
        "id": "OHrlHpo_wDFo"
      },
      "outputs": [],
      "source": [
        "#find the rows and columns of the data\n",
        "tf_data.shape"
      ]
    },
    {
      "cell_type": "code",
      "execution_count": null,
      "metadata": {
        "id": "G7GK-IH6wQH5"
      },
      "outputs": [],
      "source": [
        "#Loading the mini training data\n",
        "tr_data=pd.read_csv(\"/content/drive/MyDrive/Training_Set/log_mini.csv.gz\")"
      ]
    },
    {
      "cell_type": "code",
      "execution_count": null,
      "metadata": {
        "id": "5Gild812whL4"
      },
      "outputs": [],
      "source": [
        "#Checking the null values on training data\n",
        "tr_data.isnull().sum()"
      ]
    },
    {
      "cell_type": "code",
      "execution_count": null,
      "metadata": {
        "id": "3FuakF7uwpmy"
      },
      "outputs": [],
      "source": [
        "#Shape of training data\n",
        "tr_data.shape"
      ]
    },
    {
      "cell_type": "code",
      "execution_count": null,
      "metadata": {
        "id": "wtJxIsaAw9DS"
      },
      "outputs": [],
      "source": [
        "#displaying the first 5 rows\n",
        "tr_data.head()"
      ]
    },
    {
      "cell_type": "code",
      "execution_count": null,
      "metadata": {
        "id": "P0hs-VQKxHLC"
      },
      "outputs": [],
      "source": [
        "# Using skip_2 as the ground truth\n",
        "tr_data['skipped'] = (tr_data.skip_2 & tr_data.skip_1).astype('int32')\n",
        "tr_data = tr_data.drop(columns=['skip_1','skip_2','skip_3','not_skipped'])\n",
        "tr_data.head()"
      ]
    },
    {
      "cell_type": "code",
      "execution_count": null,
      "metadata": {
        "colab": {
          "background_save": true
        },
        "id": "jxThvxYgyuRl",
        "outputId": "2e09537d-1f7b-4c63-82d7-b2d0d191b955"
      },
      "outputs": [
        {
          "data": {
            "text/html": [
              "\n",
              "  <div id=\"df-59f8daaf-f385-44d4-b186-2644718b931d\">\n",
              "    <div class=\"colab-df-container\">\n",
              "      <div>\n",
              "<style scoped>\n",
              "    .dataframe tbody tr th:only-of-type {\n",
              "        vertical-align: middle;\n",
              "    }\n",
              "\n",
              "    .dataframe tbody tr th {\n",
              "        vertical-align: top;\n",
              "    }\n",
              "\n",
              "    .dataframe thead th {\n",
              "        text-align: right;\n",
              "    }\n",
              "</style>\n",
              "<table border=\"1\" class=\"dataframe\">\n",
              "  <thead>\n",
              "    <tr style=\"text-align: right;\">\n",
              "      <th></th>\n",
              "      <th>session_id</th>\n",
              "      <th>session_position</th>\n",
              "      <th>session_length</th>\n",
              "      <th>context_switch</th>\n",
              "      <th>no_pause_before_play</th>\n",
              "      <th>short_pause_before_play</th>\n",
              "      <th>long_pause_before_play</th>\n",
              "      <th>hist_user_behavior_n_seekfwd</th>\n",
              "      <th>hist_user_behavior_n_seekback</th>\n",
              "      <th>hist_user_behavior_is_shuffle</th>\n",
              "      <th>hour_of_day</th>\n",
              "      <th>date</th>\n",
              "      <th>premium</th>\n",
              "      <th>context_type</th>\n",
              "      <th>hist_user_behavior_reason_start</th>\n",
              "      <th>hist_user_behavior_reason_end</th>\n",
              "      <th>skipped</th>\n",
              "      <th>track_id</th>\n",
              "      <th>duration</th>\n",
              "      <th>release_year</th>\n",
              "      <th>us_popularity_estimate</th>\n",
              "      <th>acousticness</th>\n",
              "      <th>beat_strength</th>\n",
              "      <th>bounciness</th>\n",
              "      <th>danceability</th>\n",
              "      <th>dyn_range_mean</th>\n",
              "      <th>energy</th>\n",
              "      <th>flatness</th>\n",
              "      <th>instrumentalness</th>\n",
              "      <th>key</th>\n",
              "      <th>liveness</th>\n",
              "      <th>loudness</th>\n",
              "      <th>mechanism</th>\n",
              "      <th>mode</th>\n",
              "      <th>organism</th>\n",
              "      <th>speechiness</th>\n",
              "      <th>tempo</th>\n",
              "      <th>time_signature</th>\n",
              "      <th>valence</th>\n",
              "      <th>acoustic_vector_0</th>\n",
              "      <th>acoustic_vector_1</th>\n",
              "      <th>acoustic_vector_2</th>\n",
              "      <th>acoustic_vector_3</th>\n",
              "      <th>acoustic_vector_4</th>\n",
              "      <th>acoustic_vector_5</th>\n",
              "      <th>acoustic_vector_6</th>\n",
              "      <th>acoustic_vector_7</th>\n",
              "    </tr>\n",
              "  </thead>\n",
              "  <tbody>\n",
              "    <tr>\n",
              "      <th>0</th>\n",
              "      <td>0_00006f66-33e5-4de7-a324-2d18e439fc1e</td>\n",
              "      <td>1</td>\n",
              "      <td>20</td>\n",
              "      <td>0</td>\n",
              "      <td>0</td>\n",
              "      <td>0</td>\n",
              "      <td>0</td>\n",
              "      <td>0</td>\n",
              "      <td>0</td>\n",
              "      <td>True</td>\n",
              "      <td>16</td>\n",
              "      <td>2018-07-15</td>\n",
              "      <td>True</td>\n",
              "      <td>editorial_playlist</td>\n",
              "      <td>trackdone</td>\n",
              "      <td>trackdone</td>\n",
              "      <td>0</td>\n",
              "      <td>t_0479f24c-27d2-46d6-a00c-7ec928f2b539</td>\n",
              "      <td>180.066666</td>\n",
              "      <td>2018</td>\n",
              "      <td>99.968133</td>\n",
              "      <td>0.015848</td>\n",
              "      <td>0.438551</td>\n",
              "      <td>0.473455</td>\n",
              "      <td>0.653119</td>\n",
              "      <td>7.660024</td>\n",
              "      <td>0.553465</td>\n",
              "      <td>1.035007</td>\n",
              "      <td>3.484468e-03</td>\n",
              "      <td>1</td>\n",
              "      <td>0.678553</td>\n",
              "      <td>-6.577</td>\n",
              "      <td>0.546784</td>\n",
              "      <td>major</td>\n",
              "      <td>0.320668</td>\n",
              "      <td>0.069717</td>\n",
              "      <td>134.024994</td>\n",
              "      <td>4</td>\n",
              "      <td>0.152255</td>\n",
              "      <td>-0.815775</td>\n",
              "      <td>0.386409</td>\n",
              "      <td>0.230160</td>\n",
              "      <td>0.028028</td>\n",
              "      <td>-0.333373</td>\n",
              "      <td>0.015452</td>\n",
              "      <td>-0.353590</td>\n",
              "      <td>0.205826</td>\n",
              "    </tr>\n",
              "    <tr>\n",
              "      <th>1</th>\n",
              "      <td>0_00006f66-33e5-4de7-a324-2d18e439fc1e</td>\n",
              "      <td>1</td>\n",
              "      <td>20</td>\n",
              "      <td>0</td>\n",
              "      <td>0</td>\n",
              "      <td>0</td>\n",
              "      <td>0</td>\n",
              "      <td>0</td>\n",
              "      <td>0</td>\n",
              "      <td>True</td>\n",
              "      <td>16</td>\n",
              "      <td>2018-07-15</td>\n",
              "      <td>True</td>\n",
              "      <td>editorial_playlist</td>\n",
              "      <td>trackdone</td>\n",
              "      <td>trackdone</td>\n",
              "      <td>0</td>\n",
              "      <td>t_0479f24c-27d2-46d6-a00c-7ec928f2b539</td>\n",
              "      <td>180.066666</td>\n",
              "      <td>2018</td>\n",
              "      <td>99.968133</td>\n",
              "      <td>0.015848</td>\n",
              "      <td>0.438551</td>\n",
              "      <td>0.473455</td>\n",
              "      <td>0.653119</td>\n",
              "      <td>7.660024</td>\n",
              "      <td>0.553465</td>\n",
              "      <td>1.035007</td>\n",
              "      <td>3.484468e-03</td>\n",
              "      <td>1</td>\n",
              "      <td>0.678553</td>\n",
              "      <td>-6.577</td>\n",
              "      <td>0.546784</td>\n",
              "      <td>major</td>\n",
              "      <td>0.320668</td>\n",
              "      <td>0.069717</td>\n",
              "      <td>134.024994</td>\n",
              "      <td>4</td>\n",
              "      <td>0.152255</td>\n",
              "      <td>-0.815775</td>\n",
              "      <td>0.386409</td>\n",
              "      <td>0.230160</td>\n",
              "      <td>0.028028</td>\n",
              "      <td>-0.333373</td>\n",
              "      <td>0.015452</td>\n",
              "      <td>-0.353590</td>\n",
              "      <td>0.205826</td>\n",
              "    </tr>\n",
              "    <tr>\n",
              "      <th>2</th>\n",
              "      <td>0_00006f66-33e5-4de7-a324-2d18e439fc1e</td>\n",
              "      <td>2</td>\n",
              "      <td>20</td>\n",
              "      <td>0</td>\n",
              "      <td>1</td>\n",
              "      <td>0</td>\n",
              "      <td>0</td>\n",
              "      <td>0</td>\n",
              "      <td>0</td>\n",
              "      <td>True</td>\n",
              "      <td>16</td>\n",
              "      <td>2018-07-15</td>\n",
              "      <td>True</td>\n",
              "      <td>editorial_playlist</td>\n",
              "      <td>trackdone</td>\n",
              "      <td>trackdone</td>\n",
              "      <td>0</td>\n",
              "      <td>t_9099cd7b-c238-47b7-9381-f23f2c1d1043</td>\n",
              "      <td>236.796371</td>\n",
              "      <td>2018</td>\n",
              "      <td>99.896728</td>\n",
              "      <td>0.061811</td>\n",
              "      <td>0.654804</td>\n",
              "      <td>0.735661</td>\n",
              "      <td>0.877393</td>\n",
              "      <td>11.308750</td>\n",
              "      <td>0.726828</td>\n",
              "      <td>1.025636</td>\n",
              "      <td>1.031315e-07</td>\n",
              "      <td>7</td>\n",
              "      <td>0.104322</td>\n",
              "      <td>-5.319</td>\n",
              "      <td>0.824766</td>\n",
              "      <td>minor</td>\n",
              "      <td>0.131391</td>\n",
              "      <td>0.061158</td>\n",
              "      <td>130.037994</td>\n",
              "      <td>4</td>\n",
              "      <td>0.337152</td>\n",
              "      <td>-0.713646</td>\n",
              "      <td>0.363718</td>\n",
              "      <td>0.310315</td>\n",
              "      <td>-0.042222</td>\n",
              "      <td>-0.383164</td>\n",
              "      <td>0.066357</td>\n",
              "      <td>-0.365308</td>\n",
              "      <td>0.157920</td>\n",
              "    </tr>\n",
              "    <tr>\n",
              "      <th>3</th>\n",
              "      <td>0_00006f66-33e5-4de7-a324-2d18e439fc1e</td>\n",
              "      <td>2</td>\n",
              "      <td>20</td>\n",
              "      <td>0</td>\n",
              "      <td>1</td>\n",
              "      <td>0</td>\n",
              "      <td>0</td>\n",
              "      <td>0</td>\n",
              "      <td>0</td>\n",
              "      <td>True</td>\n",
              "      <td>16</td>\n",
              "      <td>2018-07-15</td>\n",
              "      <td>True</td>\n",
              "      <td>editorial_playlist</td>\n",
              "      <td>trackdone</td>\n",
              "      <td>trackdone</td>\n",
              "      <td>0</td>\n",
              "      <td>t_9099cd7b-c238-47b7-9381-f23f2c1d1043</td>\n",
              "      <td>236.796371</td>\n",
              "      <td>2018</td>\n",
              "      <td>99.896728</td>\n",
              "      <td>0.061811</td>\n",
              "      <td>0.654804</td>\n",
              "      <td>0.735661</td>\n",
              "      <td>0.877393</td>\n",
              "      <td>11.308750</td>\n",
              "      <td>0.726828</td>\n",
              "      <td>1.025636</td>\n",
              "      <td>1.031315e-07</td>\n",
              "      <td>7</td>\n",
              "      <td>0.104322</td>\n",
              "      <td>-5.319</td>\n",
              "      <td>0.824766</td>\n",
              "      <td>minor</td>\n",
              "      <td>0.131391</td>\n",
              "      <td>0.061158</td>\n",
              "      <td>130.037994</td>\n",
              "      <td>4</td>\n",
              "      <td>0.337152</td>\n",
              "      <td>-0.713646</td>\n",
              "      <td>0.363718</td>\n",
              "      <td>0.310315</td>\n",
              "      <td>-0.042222</td>\n",
              "      <td>-0.383164</td>\n",
              "      <td>0.066357</td>\n",
              "      <td>-0.365308</td>\n",
              "      <td>0.157920</td>\n",
              "    </tr>\n",
              "    <tr>\n",
              "      <th>4</th>\n",
              "      <td>0_00006f66-33e5-4de7-a324-2d18e439fc1e</td>\n",
              "      <td>3</td>\n",
              "      <td>20</td>\n",
              "      <td>0</td>\n",
              "      <td>1</td>\n",
              "      <td>0</td>\n",
              "      <td>0</td>\n",
              "      <td>0</td>\n",
              "      <td>0</td>\n",
              "      <td>True</td>\n",
              "      <td>16</td>\n",
              "      <td>2018-07-15</td>\n",
              "      <td>True</td>\n",
              "      <td>editorial_playlist</td>\n",
              "      <td>trackdone</td>\n",
              "      <td>trackdone</td>\n",
              "      <td>0</td>\n",
              "      <td>t_fc5df5ba-5396-49a7-8b29-35d0d28249e0</td>\n",
              "      <td>231.266663</td>\n",
              "      <td>2018</td>\n",
              "      <td>99.999976</td>\n",
              "      <td>0.354116</td>\n",
              "      <td>0.532155</td>\n",
              "      <td>0.540411</td>\n",
              "      <td>0.679719</td>\n",
              "      <td>8.065802</td>\n",
              "      <td>0.563009</td>\n",
              "      <td>1.029465</td>\n",
              "      <td>2.659035e-08</td>\n",
              "      <td>10</td>\n",
              "      <td>0.135776</td>\n",
              "      <td>-5.843</td>\n",
              "      <td>0.774327</td>\n",
              "      <td>major</td>\n",
              "      <td>0.296923</td>\n",
              "      <td>0.045354</td>\n",
              "      <td>145.028000</td>\n",
              "      <td>4</td>\n",
              "      <td>0.373862</td>\n",
              "      <td>-0.742541</td>\n",
              "      <td>0.375599</td>\n",
              "      <td>0.252660</td>\n",
              "      <td>-0.049007</td>\n",
              "      <td>-0.299745</td>\n",
              "      <td>0.063341</td>\n",
              "      <td>-0.486689</td>\n",
              "      <td>0.181604</td>\n",
              "    </tr>\n",
              "  </tbody>\n",
              "</table>\n",
              "</div>\n",
              "      <button class=\"colab-df-convert\" onclick=\"convertToInteractive('df-59f8daaf-f385-44d4-b186-2644718b931d')\"\n",
              "              title=\"Convert this dataframe to an interactive table.\"\n",
              "              style=\"display:none;\">\n",
              "        \n",
              "  <svg xmlns=\"http://www.w3.org/2000/svg\" height=\"24px\"viewBox=\"0 0 24 24\"\n",
              "       width=\"24px\">\n",
              "    <path d=\"M0 0h24v24H0V0z\" fill=\"none\"/>\n",
              "    <path d=\"M18.56 5.44l.94 2.06.94-2.06 2.06-.94-2.06-.94-.94-2.06-.94 2.06-2.06.94zm-11 1L8.5 8.5l.94-2.06 2.06-.94-2.06-.94L8.5 2.5l-.94 2.06-2.06.94zm10 10l.94 2.06.94-2.06 2.06-.94-2.06-.94-.94-2.06-.94 2.06-2.06.94z\"/><path d=\"M17.41 7.96l-1.37-1.37c-.4-.4-.92-.59-1.43-.59-.52 0-1.04.2-1.43.59L10.3 9.45l-7.72 7.72c-.78.78-.78 2.05 0 2.83L4 21.41c.39.39.9.59 1.41.59.51 0 1.02-.2 1.41-.59l7.78-7.78 2.81-2.81c.8-.78.8-2.07 0-2.86zM5.41 20L4 18.59l7.72-7.72 1.47 1.35L5.41 20z\"/>\n",
              "  </svg>\n",
              "      </button>\n",
              "      \n",
              "  <style>\n",
              "    .colab-df-container {\n",
              "      display:flex;\n",
              "      flex-wrap:wrap;\n",
              "      gap: 12px;\n",
              "    }\n",
              "\n",
              "    .colab-df-convert {\n",
              "      background-color: #E8F0FE;\n",
              "      border: none;\n",
              "      border-radius: 50%;\n",
              "      cursor: pointer;\n",
              "      display: none;\n",
              "      fill: #1967D2;\n",
              "      height: 32px;\n",
              "      padding: 0 0 0 0;\n",
              "      width: 32px;\n",
              "    }\n",
              "\n",
              "    .colab-df-convert:hover {\n",
              "      background-color: #E2EBFA;\n",
              "      box-shadow: 0px 1px 2px rgba(60, 64, 67, 0.3), 0px 1px 3px 1px rgba(60, 64, 67, 0.15);\n",
              "      fill: #174EA6;\n",
              "    }\n",
              "\n",
              "    [theme=dark] .colab-df-convert {\n",
              "      background-color: #3B4455;\n",
              "      fill: #D2E3FC;\n",
              "    }\n",
              "\n",
              "    [theme=dark] .colab-df-convert:hover {\n",
              "      background-color: #434B5C;\n",
              "      box-shadow: 0px 1px 3px 1px rgba(0, 0, 0, 0.15);\n",
              "      filter: drop-shadow(0px 1px 2px rgba(0, 0, 0, 0.3));\n",
              "      fill: #FFFFFF;\n",
              "    }\n",
              "  </style>\n",
              "\n",
              "      <script>\n",
              "        const buttonEl =\n",
              "          document.querySelector('#df-59f8daaf-f385-44d4-b186-2644718b931d button.colab-df-convert');\n",
              "        buttonEl.style.display =\n",
              "          google.colab.kernel.accessAllowed ? 'block' : 'none';\n",
              "\n",
              "        async function convertToInteractive(key) {\n",
              "          const element = document.querySelector('#df-59f8daaf-f385-44d4-b186-2644718b931d');\n",
              "          const dataTable =\n",
              "            await google.colab.kernel.invokeFunction('convertToInteractive',\n",
              "                                                     [key], {});\n",
              "          if (!dataTable) return;\n",
              "\n",
              "          const docLinkHtml = 'Like what you see? Visit the ' +\n",
              "            '<a target=\"_blank\" href=https://colab.research.google.com/notebooks/data_table.ipynb>data table notebook</a>'\n",
              "            + ' to learn more about interactive tables.';\n",
              "          element.innerHTML = '';\n",
              "          dataTable['output_type'] = 'display_data';\n",
              "          await google.colab.output.renderOutput(dataTable, element);\n",
              "          const docLink = document.createElement('div');\n",
              "          docLink.innerHTML = docLinkHtml;\n",
              "          element.appendChild(docLink);\n",
              "        }\n",
              "      </script>\n",
              "    </div>\n",
              "  </div>\n",
              "  "
            ],
            "text/plain": [
              "                               session_id  ...  acoustic_vector_7\n",
              "0  0_00006f66-33e5-4de7-a324-2d18e439fc1e  ...           0.205826\n",
              "1  0_00006f66-33e5-4de7-a324-2d18e439fc1e  ...           0.205826\n",
              "2  0_00006f66-33e5-4de7-a324-2d18e439fc1e  ...           0.157920\n",
              "3  0_00006f66-33e5-4de7-a324-2d18e439fc1e  ...           0.157920\n",
              "4  0_00006f66-33e5-4de7-a324-2d18e439fc1e  ...           0.181604\n",
              "\n",
              "[5 rows x 47 columns]"
            ]
          },
          "execution_count": null,
          "metadata": {},
          "output_type": "execute_result"
        }
      ],
      "source": [
        "# Join the two together\n",
        "df = (\n",
        "    tr_data\n",
        "    .merge(\n",
        "        tf_data,\n",
        "        how='left',\n",
        "        left_on=['track_id_clean'],\n",
        "        right_on=['track_id']\n",
        "    ).drop(columns='track_id_clean')\n",
        ")\n",
        "df.head()"
      ]
    },
    {
      "cell_type": "code",
      "execution_count": null,
      "metadata": {
        "colab": {
          "background_save": true
        },
        "id": "QIYTuK-DzID1"
      },
      "outputs": [],
      "source": [
        "#Checking the rows and columns of the merging data\n",
        "df.shape\n",
        "df.to_csv('spotify_data.csv')"
      ]
    },
    {
      "cell_type": "code",
      "execution_count": null,
      "metadata": {
        "colab": {
          "background_save": true
        },
        "id": "Z59Mr0eSVIAb",
        "outputId": "4f5c67da-4454-44d5-cc95-be2d919145df"
      },
      "outputs": [
        {
          "data": {
            "text/plain": [
              "session_id                         0\n",
              "session_position                   0\n",
              "session_length                     0\n",
              "context_switch                     0\n",
              "no_pause_before_play               0\n",
              "short_pause_before_play            0\n",
              "long_pause_before_play             0\n",
              "hist_user_behavior_n_seekfwd       0\n",
              "hist_user_behavior_n_seekback      0\n",
              "hist_user_behavior_is_shuffle      0\n",
              "hour_of_day                        0\n",
              "date                               0\n",
              "premium                            0\n",
              "context_type                       0\n",
              "hist_user_behavior_reason_start    0\n",
              "hist_user_behavior_reason_end      0\n",
              "skipped                            0\n",
              "track_id                           0\n",
              "duration                           0\n",
              "release_year                       0\n",
              "us_popularity_estimate             0\n",
              "acousticness                       0\n",
              "beat_strength                      0\n",
              "bounciness                         0\n",
              "danceability                       0\n",
              "dyn_range_mean                     0\n",
              "energy                             0\n",
              "flatness                           0\n",
              "instrumentalness                   0\n",
              "key                                0\n",
              "liveness                           0\n",
              "loudness                           0\n",
              "mechanism                          0\n",
              "mode                               0\n",
              "organism                           0\n",
              "speechiness                        0\n",
              "tempo                              0\n",
              "time_signature                     0\n",
              "valence                            0\n",
              "acoustic_vector_0                  0\n",
              "acoustic_vector_1                  0\n",
              "acoustic_vector_2                  0\n",
              "acoustic_vector_3                  0\n",
              "acoustic_vector_4                  0\n",
              "acoustic_vector_5                  0\n",
              "acoustic_vector_6                  0\n",
              "acoustic_vector_7                  0\n",
              "dtype: int64"
            ]
          },
          "execution_count": null,
          "metadata": {},
          "output_type": "execute_result"
        }
      ],
      "source": [
        "#Checking null values\n",
        "df.isnull().sum()"
      ]
    },
    {
      "cell_type": "code",
      "execution_count": null,
      "metadata": {
        "colab": {
          "background_save": true
        },
        "id": "S84_PhCgVp92",
        "outputId": "533f4d00-886d-46ac-9c5d-82882ba6f23a"
      },
      "outputs": [
        {
          "data": {
            "text/plain": [
              "session_id                          object\n",
              "session_position                     int64\n",
              "session_length                       int64\n",
              "context_switch                       int64\n",
              "no_pause_before_play                 int64\n",
              "short_pause_before_play              int64\n",
              "long_pause_before_play               int64\n",
              "hist_user_behavior_n_seekfwd         int64\n",
              "hist_user_behavior_n_seekback        int64\n",
              "hist_user_behavior_is_shuffle         bool\n",
              "hour_of_day                          int64\n",
              "date                                object\n",
              "premium                               bool\n",
              "context_type                        object\n",
              "hist_user_behavior_reason_start     object\n",
              "hist_user_behavior_reason_end       object\n",
              "skipped                              int32\n",
              "track_id                            object\n",
              "duration                           float64\n",
              "release_year                         int64\n",
              "us_popularity_estimate             float64\n",
              "acousticness                       float64\n",
              "beat_strength                      float64\n",
              "bounciness                         float64\n",
              "danceability                       float64\n",
              "dyn_range_mean                     float64\n",
              "energy                             float64\n",
              "flatness                           float64\n",
              "instrumentalness                   float64\n",
              "key                                  int64\n",
              "liveness                           float64\n",
              "loudness                           float64\n",
              "mechanism                          float64\n",
              "mode                                object\n",
              "organism                           float64\n",
              "speechiness                        float64\n",
              "tempo                              float64\n",
              "time_signature                       int64\n",
              "valence                            float64\n",
              "acoustic_vector_0                  float64\n",
              "acoustic_vector_1                  float64\n",
              "acoustic_vector_2                  float64\n",
              "acoustic_vector_3                  float64\n",
              "acoustic_vector_4                  float64\n",
              "acoustic_vector_5                  float64\n",
              "acoustic_vector_6                  float64\n",
              "acoustic_vector_7                  float64\n",
              "dtype: object"
            ]
          },
          "execution_count": null,
          "metadata": {},
          "output_type": "execute_result"
        }
      ],
      "source": [
        "#Checking the data types of the data\n",
        "df.dtypes"
      ]
    },
    {
      "cell_type": "code",
      "execution_count": null,
      "metadata": {
        "colab": {
          "background_save": true
        },
        "id": "GFbMiMgWV1HC"
      },
      "outputs": [],
      "source": [
        "#Convert the object values to numerical values\n",
        "from sklearn.preprocessing import LabelEncoder\n",
        "le1=LabelEncoder()\n",
        "df['session_id']=le1.fit_transform(df['session_id'])\n",
        "\n",
        "le2=LabelEncoder()\n",
        "df['hist_user_behavior_is_shuffle']=le2.fit_transform(df['hist_user_behavior_is_shuffle'])\n",
        "\n",
        "le3=LabelEncoder()\n",
        "df['date']=le3.fit_transform(df['date'])\n",
        "\n",
        "le4=LabelEncoder()\n",
        "df['premium']=le4.fit_transform(df['premium'])\n",
        "\n",
        "le5=LabelEncoder()\n",
        "df['context_type']=le5.fit_transform(df['context_type'])\n",
        "\n",
        "le6=LabelEncoder()\n",
        "df['hist_user_behavior_reason_start']=le6.fit_transform(df['hist_user_behavior_reason_start'])\n",
        "\n",
        "le7=LabelEncoder()\n",
        "df['hist_user_behavior_reason_end']=le7.fit_transform(df['hist_user_behavior_reason_end'])\n",
        "\n",
        "le8=LabelEncoder()\n",
        "df['track_id']=le8.fit_transform(df['track_id'])\n",
        "\n",
        "le9=LabelEncoder()\n",
        "df['mode']=le9.fit_transform(df['mode'])"
      ]
    },
    {
      "cell_type": "code",
      "execution_count": null,
      "metadata": {
        "colab": {
          "background_save": true
        },
        "id": "X6_0-yo6YS1p",
        "outputId": "40852540-7aef-42e1-a338-2ff73fb87937"
      },
      "outputs": [
        {
          "data": {
            "text/html": [
              "\n",
              "  <div id=\"df-0e6fda21-ca56-482e-b0d5-638faa1301b0\">\n",
              "    <div class=\"colab-df-container\">\n",
              "      <div>\n",
              "<style scoped>\n",
              "    .dataframe tbody tr th:only-of-type {\n",
              "        vertical-align: middle;\n",
              "    }\n",
              "\n",
              "    .dataframe tbody tr th {\n",
              "        vertical-align: top;\n",
              "    }\n",
              "\n",
              "    .dataframe thead th {\n",
              "        text-align: right;\n",
              "    }\n",
              "</style>\n",
              "<table border=\"1\" class=\"dataframe\">\n",
              "  <thead>\n",
              "    <tr style=\"text-align: right;\">\n",
              "      <th></th>\n",
              "      <th>session_id</th>\n",
              "      <th>session_position</th>\n",
              "      <th>session_length</th>\n",
              "      <th>context_switch</th>\n",
              "      <th>no_pause_before_play</th>\n",
              "      <th>short_pause_before_play</th>\n",
              "      <th>long_pause_before_play</th>\n",
              "      <th>hist_user_behavior_n_seekfwd</th>\n",
              "      <th>hist_user_behavior_n_seekback</th>\n",
              "      <th>hist_user_behavior_is_shuffle</th>\n",
              "      <th>hour_of_day</th>\n",
              "      <th>date</th>\n",
              "      <th>premium</th>\n",
              "      <th>context_type</th>\n",
              "      <th>hist_user_behavior_reason_start</th>\n",
              "      <th>hist_user_behavior_reason_end</th>\n",
              "      <th>skipped</th>\n",
              "      <th>track_id</th>\n",
              "      <th>duration</th>\n",
              "      <th>release_year</th>\n",
              "      <th>us_popularity_estimate</th>\n",
              "      <th>acousticness</th>\n",
              "      <th>beat_strength</th>\n",
              "      <th>bounciness</th>\n",
              "      <th>danceability</th>\n",
              "      <th>dyn_range_mean</th>\n",
              "      <th>energy</th>\n",
              "      <th>flatness</th>\n",
              "      <th>instrumentalness</th>\n",
              "      <th>key</th>\n",
              "      <th>liveness</th>\n",
              "      <th>loudness</th>\n",
              "      <th>mechanism</th>\n",
              "      <th>mode</th>\n",
              "      <th>organism</th>\n",
              "      <th>speechiness</th>\n",
              "      <th>tempo</th>\n",
              "      <th>time_signature</th>\n",
              "      <th>valence</th>\n",
              "      <th>acoustic_vector_0</th>\n",
              "      <th>acoustic_vector_1</th>\n",
              "      <th>acoustic_vector_2</th>\n",
              "      <th>acoustic_vector_3</th>\n",
              "      <th>acoustic_vector_4</th>\n",
              "      <th>acoustic_vector_5</th>\n",
              "      <th>acoustic_vector_6</th>\n",
              "      <th>acoustic_vector_7</th>\n",
              "    </tr>\n",
              "  </thead>\n",
              "  <tbody>\n",
              "    <tr>\n",
              "      <th>0</th>\n",
              "      <td>0</td>\n",
              "      <td>1</td>\n",
              "      <td>20</td>\n",
              "      <td>0</td>\n",
              "      <td>0</td>\n",
              "      <td>0</td>\n",
              "      <td>0</td>\n",
              "      <td>0</td>\n",
              "      <td>0</td>\n",
              "      <td>1</td>\n",
              "      <td>16</td>\n",
              "      <td>16</td>\n",
              "      <td>1</td>\n",
              "      <td>2</td>\n",
              "      <td>7</td>\n",
              "      <td>6</td>\n",
              "      <td>0</td>\n",
              "      <td>890</td>\n",
              "      <td>180.066666</td>\n",
              "      <td>2018</td>\n",
              "      <td>99.968133</td>\n",
              "      <td>0.015848</td>\n",
              "      <td>0.438551</td>\n",
              "      <td>0.473455</td>\n",
              "      <td>0.653119</td>\n",
              "      <td>7.660024</td>\n",
              "      <td>0.553465</td>\n",
              "      <td>1.035007</td>\n",
              "      <td>3.484468e-03</td>\n",
              "      <td>1</td>\n",
              "      <td>0.678553</td>\n",
              "      <td>-6.577</td>\n",
              "      <td>0.546784</td>\n",
              "      <td>0</td>\n",
              "      <td>0.320668</td>\n",
              "      <td>0.069717</td>\n",
              "      <td>134.024994</td>\n",
              "      <td>4</td>\n",
              "      <td>0.152255</td>\n",
              "      <td>-0.815775</td>\n",
              "      <td>0.386409</td>\n",
              "      <td>0.230160</td>\n",
              "      <td>0.028028</td>\n",
              "      <td>-0.333373</td>\n",
              "      <td>0.015452</td>\n",
              "      <td>-0.353590</td>\n",
              "      <td>0.205826</td>\n",
              "    </tr>\n",
              "    <tr>\n",
              "      <th>1</th>\n",
              "      <td>0</td>\n",
              "      <td>1</td>\n",
              "      <td>20</td>\n",
              "      <td>0</td>\n",
              "      <td>0</td>\n",
              "      <td>0</td>\n",
              "      <td>0</td>\n",
              "      <td>0</td>\n",
              "      <td>0</td>\n",
              "      <td>1</td>\n",
              "      <td>16</td>\n",
              "      <td>16</td>\n",
              "      <td>1</td>\n",
              "      <td>2</td>\n",
              "      <td>7</td>\n",
              "      <td>6</td>\n",
              "      <td>0</td>\n",
              "      <td>890</td>\n",
              "      <td>180.066666</td>\n",
              "      <td>2018</td>\n",
              "      <td>99.968133</td>\n",
              "      <td>0.015848</td>\n",
              "      <td>0.438551</td>\n",
              "      <td>0.473455</td>\n",
              "      <td>0.653119</td>\n",
              "      <td>7.660024</td>\n",
              "      <td>0.553465</td>\n",
              "      <td>1.035007</td>\n",
              "      <td>3.484468e-03</td>\n",
              "      <td>1</td>\n",
              "      <td>0.678553</td>\n",
              "      <td>-6.577</td>\n",
              "      <td>0.546784</td>\n",
              "      <td>0</td>\n",
              "      <td>0.320668</td>\n",
              "      <td>0.069717</td>\n",
              "      <td>134.024994</td>\n",
              "      <td>4</td>\n",
              "      <td>0.152255</td>\n",
              "      <td>-0.815775</td>\n",
              "      <td>0.386409</td>\n",
              "      <td>0.230160</td>\n",
              "      <td>0.028028</td>\n",
              "      <td>-0.333373</td>\n",
              "      <td>0.015452</td>\n",
              "      <td>-0.353590</td>\n",
              "      <td>0.205826</td>\n",
              "    </tr>\n",
              "    <tr>\n",
              "      <th>2</th>\n",
              "      <td>0</td>\n",
              "      <td>2</td>\n",
              "      <td>20</td>\n",
              "      <td>0</td>\n",
              "      <td>1</td>\n",
              "      <td>0</td>\n",
              "      <td>0</td>\n",
              "      <td>0</td>\n",
              "      <td>0</td>\n",
              "      <td>1</td>\n",
              "      <td>16</td>\n",
              "      <td>16</td>\n",
              "      <td>1</td>\n",
              "      <td>2</td>\n",
              "      <td>7</td>\n",
              "      <td>6</td>\n",
              "      <td>0</td>\n",
              "      <td>28794</td>\n",
              "      <td>236.796371</td>\n",
              "      <td>2018</td>\n",
              "      <td>99.896728</td>\n",
              "      <td>0.061811</td>\n",
              "      <td>0.654804</td>\n",
              "      <td>0.735661</td>\n",
              "      <td>0.877393</td>\n",
              "      <td>11.308750</td>\n",
              "      <td>0.726828</td>\n",
              "      <td>1.025636</td>\n",
              "      <td>1.031315e-07</td>\n",
              "      <td>7</td>\n",
              "      <td>0.104322</td>\n",
              "      <td>-5.319</td>\n",
              "      <td>0.824766</td>\n",
              "      <td>1</td>\n",
              "      <td>0.131391</td>\n",
              "      <td>0.061158</td>\n",
              "      <td>130.037994</td>\n",
              "      <td>4</td>\n",
              "      <td>0.337152</td>\n",
              "      <td>-0.713646</td>\n",
              "      <td>0.363718</td>\n",
              "      <td>0.310315</td>\n",
              "      <td>-0.042222</td>\n",
              "      <td>-0.383164</td>\n",
              "      <td>0.066357</td>\n",
              "      <td>-0.365308</td>\n",
              "      <td>0.157920</td>\n",
              "    </tr>\n",
              "    <tr>\n",
              "      <th>3</th>\n",
              "      <td>0</td>\n",
              "      <td>2</td>\n",
              "      <td>20</td>\n",
              "      <td>0</td>\n",
              "      <td>1</td>\n",
              "      <td>0</td>\n",
              "      <td>0</td>\n",
              "      <td>0</td>\n",
              "      <td>0</td>\n",
              "      <td>1</td>\n",
              "      <td>16</td>\n",
              "      <td>16</td>\n",
              "      <td>1</td>\n",
              "      <td>2</td>\n",
              "      <td>7</td>\n",
              "      <td>6</td>\n",
              "      <td>0</td>\n",
              "      <td>28794</td>\n",
              "      <td>236.796371</td>\n",
              "      <td>2018</td>\n",
              "      <td>99.896728</td>\n",
              "      <td>0.061811</td>\n",
              "      <td>0.654804</td>\n",
              "      <td>0.735661</td>\n",
              "      <td>0.877393</td>\n",
              "      <td>11.308750</td>\n",
              "      <td>0.726828</td>\n",
              "      <td>1.025636</td>\n",
              "      <td>1.031315e-07</td>\n",
              "      <td>7</td>\n",
              "      <td>0.104322</td>\n",
              "      <td>-5.319</td>\n",
              "      <td>0.824766</td>\n",
              "      <td>1</td>\n",
              "      <td>0.131391</td>\n",
              "      <td>0.061158</td>\n",
              "      <td>130.037994</td>\n",
              "      <td>4</td>\n",
              "      <td>0.337152</td>\n",
              "      <td>-0.713646</td>\n",
              "      <td>0.363718</td>\n",
              "      <td>0.310315</td>\n",
              "      <td>-0.042222</td>\n",
              "      <td>-0.383164</td>\n",
              "      <td>0.066357</td>\n",
              "      <td>-0.365308</td>\n",
              "      <td>0.157920</td>\n",
              "    </tr>\n",
              "    <tr>\n",
              "      <th>4</th>\n",
              "      <td>0</td>\n",
              "      <td>3</td>\n",
              "      <td>20</td>\n",
              "      <td>0</td>\n",
              "      <td>1</td>\n",
              "      <td>0</td>\n",
              "      <td>0</td>\n",
              "      <td>0</td>\n",
              "      <td>0</td>\n",
              "      <td>1</td>\n",
              "      <td>16</td>\n",
              "      <td>16</td>\n",
              "      <td>1</td>\n",
              "      <td>2</td>\n",
              "      <td>7</td>\n",
              "      <td>6</td>\n",
              "      <td>0</td>\n",
              "      <td>49953</td>\n",
              "      <td>231.266663</td>\n",
              "      <td>2018</td>\n",
              "      <td>99.999976</td>\n",
              "      <td>0.354116</td>\n",
              "      <td>0.532155</td>\n",
              "      <td>0.540411</td>\n",
              "      <td>0.679719</td>\n",
              "      <td>8.065802</td>\n",
              "      <td>0.563009</td>\n",
              "      <td>1.029465</td>\n",
              "      <td>2.659035e-08</td>\n",
              "      <td>10</td>\n",
              "      <td>0.135776</td>\n",
              "      <td>-5.843</td>\n",
              "      <td>0.774327</td>\n",
              "      <td>0</td>\n",
              "      <td>0.296923</td>\n",
              "      <td>0.045354</td>\n",
              "      <td>145.028000</td>\n",
              "      <td>4</td>\n",
              "      <td>0.373862</td>\n",
              "      <td>-0.742541</td>\n",
              "      <td>0.375599</td>\n",
              "      <td>0.252660</td>\n",
              "      <td>-0.049007</td>\n",
              "      <td>-0.299745</td>\n",
              "      <td>0.063341</td>\n",
              "      <td>-0.486689</td>\n",
              "      <td>0.181604</td>\n",
              "    </tr>\n",
              "  </tbody>\n",
              "</table>\n",
              "</div>\n",
              "      <button class=\"colab-df-convert\" onclick=\"convertToInteractive('df-0e6fda21-ca56-482e-b0d5-638faa1301b0')\"\n",
              "              title=\"Convert this dataframe to an interactive table.\"\n",
              "              style=\"display:none;\">\n",
              "        \n",
              "  <svg xmlns=\"http://www.w3.org/2000/svg\" height=\"24px\"viewBox=\"0 0 24 24\"\n",
              "       width=\"24px\">\n",
              "    <path d=\"M0 0h24v24H0V0z\" fill=\"none\"/>\n",
              "    <path d=\"M18.56 5.44l.94 2.06.94-2.06 2.06-.94-2.06-.94-.94-2.06-.94 2.06-2.06.94zm-11 1L8.5 8.5l.94-2.06 2.06-.94-2.06-.94L8.5 2.5l-.94 2.06-2.06.94zm10 10l.94 2.06.94-2.06 2.06-.94-2.06-.94-.94-2.06-.94 2.06-2.06.94z\"/><path d=\"M17.41 7.96l-1.37-1.37c-.4-.4-.92-.59-1.43-.59-.52 0-1.04.2-1.43.59L10.3 9.45l-7.72 7.72c-.78.78-.78 2.05 0 2.83L4 21.41c.39.39.9.59 1.41.59.51 0 1.02-.2 1.41-.59l7.78-7.78 2.81-2.81c.8-.78.8-2.07 0-2.86zM5.41 20L4 18.59l7.72-7.72 1.47 1.35L5.41 20z\"/>\n",
              "  </svg>\n",
              "      </button>\n",
              "      \n",
              "  <style>\n",
              "    .colab-df-container {\n",
              "      display:flex;\n",
              "      flex-wrap:wrap;\n",
              "      gap: 12px;\n",
              "    }\n",
              "\n",
              "    .colab-df-convert {\n",
              "      background-color: #E8F0FE;\n",
              "      border: none;\n",
              "      border-radius: 50%;\n",
              "      cursor: pointer;\n",
              "      display: none;\n",
              "      fill: #1967D2;\n",
              "      height: 32px;\n",
              "      padding: 0 0 0 0;\n",
              "      width: 32px;\n",
              "    }\n",
              "\n",
              "    .colab-df-convert:hover {\n",
              "      background-color: #E2EBFA;\n",
              "      box-shadow: 0px 1px 2px rgba(60, 64, 67, 0.3), 0px 1px 3px 1px rgba(60, 64, 67, 0.15);\n",
              "      fill: #174EA6;\n",
              "    }\n",
              "\n",
              "    [theme=dark] .colab-df-convert {\n",
              "      background-color: #3B4455;\n",
              "      fill: #D2E3FC;\n",
              "    }\n",
              "\n",
              "    [theme=dark] .colab-df-convert:hover {\n",
              "      background-color: #434B5C;\n",
              "      box-shadow: 0px 1px 3px 1px rgba(0, 0, 0, 0.15);\n",
              "      filter: drop-shadow(0px 1px 2px rgba(0, 0, 0, 0.3));\n",
              "      fill: #FFFFFF;\n",
              "    }\n",
              "  </style>\n",
              "\n",
              "      <script>\n",
              "        const buttonEl =\n",
              "          document.querySelector('#df-0e6fda21-ca56-482e-b0d5-638faa1301b0 button.colab-df-convert');\n",
              "        buttonEl.style.display =\n",
              "          google.colab.kernel.accessAllowed ? 'block' : 'none';\n",
              "\n",
              "        async function convertToInteractive(key) {\n",
              "          const element = document.querySelector('#df-0e6fda21-ca56-482e-b0d5-638faa1301b0');\n",
              "          const dataTable =\n",
              "            await google.colab.kernel.invokeFunction('convertToInteractive',\n",
              "                                                     [key], {});\n",
              "          if (!dataTable) return;\n",
              "\n",
              "          const docLinkHtml = 'Like what you see? Visit the ' +\n",
              "            '<a target=\"_blank\" href=https://colab.research.google.com/notebooks/data_table.ipynb>data table notebook</a>'\n",
              "            + ' to learn more about interactive tables.';\n",
              "          element.innerHTML = '';\n",
              "          dataTable['output_type'] = 'display_data';\n",
              "          await google.colab.output.renderOutput(dataTable, element);\n",
              "          const docLink = document.createElement('div');\n",
              "          docLink.innerHTML = docLinkHtml;\n",
              "          element.appendChild(docLink);\n",
              "        }\n",
              "      </script>\n",
              "    </div>\n",
              "  </div>\n",
              "  "
            ],
            "text/plain": [
              "   session_id  session_position  ...  acoustic_vector_6  acoustic_vector_7\n",
              "0           0                 1  ...          -0.353590           0.205826\n",
              "1           0                 1  ...          -0.353590           0.205826\n",
              "2           0                 2  ...          -0.365308           0.157920\n",
              "3           0                 2  ...          -0.365308           0.157920\n",
              "4           0                 3  ...          -0.486689           0.181604\n",
              "\n",
              "[5 rows x 47 columns]"
            ]
          },
          "execution_count": null,
          "metadata": {},
          "output_type": "execute_result"
        }
      ],
      "source": [
        "#Displaying the first 5 rows\n",
        "df.head(5)"
      ]
    },
    {
      "cell_type": "code",
      "execution_count": null,
      "metadata": {
        "colab": {
          "background_save": true
        },
        "id": "KnOiGZAMYWgj",
        "outputId": "6a201b0f-a234-4e82-852f-4184343eaed4"
      },
      "outputs": [
        {
          "data": {
            "text/plain": [
              "hist_user_behavior_reason_end     -0.567035\n",
              "hist_user_behavior_reason_start   -0.373275\n",
              "long_pause_before_play            -0.163313\n",
              "short_pause_before_play           -0.129213\n",
              "context_switch                    -0.094305\n",
              "hist_user_behavior_n_seekback     -0.051059\n",
              "hist_user_behavior_n_seekfwd      -0.043591\n",
              "acoustic_vector_0                 -0.034232\n",
              "acoustic_vector_6                 -0.029346\n",
              "premium                           -0.027076\n",
              "acousticness                      -0.021315\n",
              "acoustic_vector_4                 -0.020942\n",
              "instrumentalness                  -0.017852\n",
              "acoustic_vector_5                 -0.014580\n",
              "organism                          -0.010563\n",
              "date                              -0.008109\n",
              "valence                           -0.005272\n",
              "track_id                          -0.002327\n",
              "release_year                      -0.001480\n",
              "mechanism                         -0.001300\n",
              "session_id                        -0.001070\n",
              "flatness                           0.002431\n",
              "liveness                           0.002677\n",
              "key                                0.003254\n",
              "energy                             0.004704\n",
              "us_popularity_estimate             0.005001\n",
              "tempo                              0.005366\n",
              "beat_strength                      0.006606\n",
              "loudness                           0.009349\n",
              "danceability                       0.009693\n",
              "time_signature                     0.009910\n",
              "dyn_range_mean                     0.010775\n",
              "bounciness                         0.011013\n",
              "mode                               0.011358\n",
              "acoustic_vector_3                  0.011871\n",
              "hour_of_day                        0.011958\n",
              "acoustic_vector_2                  0.013202\n",
              "acoustic_vector_7                  0.013716\n",
              "duration                           0.017686\n",
              "acoustic_vector_1                  0.017919\n",
              "speechiness                        0.021412\n",
              "hist_user_behavior_is_shuffle      0.052393\n",
              "session_position                   0.055365\n",
              "session_length                     0.090904\n",
              "context_type                       0.097732\n",
              "no_pause_before_play               0.191440\n",
              "skipped                            1.000000\n",
              "Name: skipped, dtype: float64"
            ]
          },
          "execution_count": null,
          "metadata": {},
          "output_type": "execute_result"
        }
      ],
      "source": [
        "df.corr()['skipped'].sort_values()"
      ]
    },
    {
      "cell_type": "code",
      "execution_count": null,
      "metadata": {
        "colab": {
          "background_save": true
        },
        "id": "Q_lPcCjdZAN7"
      },
      "outputs": [],
      "source": [
        "df1=df.drop(['hist_user_behavior_reason_end','hist_user_behavior_reason_start','long_pause_before_play','short_pause_before_play','context_switch','hist_user_behavior_n_seekback','hist_user_behavior_n_seekfwd','acoustic_vector_0','acoustic_vector_6','premium','session_id','track_id'],axis=1)"
      ]
    },
    {
      "cell_type": "code",
      "execution_count": null,
      "metadata": {
        "colab": {
          "background_save": true
        },
        "id": "1ErSYxnKarTg",
        "outputId": "f38cd5b0-30e0-48e7-ec6b-fefceb159ec7"
      },
      "outputs": [
        {
          "data": {
            "text/html": [
              "\n",
              "  <div id=\"df-02d64ec7-6e06-43e7-873e-a5c333e85fab\">\n",
              "    <div class=\"colab-df-container\">\n",
              "      <div>\n",
              "<style scoped>\n",
              "    .dataframe tbody tr th:only-of-type {\n",
              "        vertical-align: middle;\n",
              "    }\n",
              "\n",
              "    .dataframe tbody tr th {\n",
              "        vertical-align: top;\n",
              "    }\n",
              "\n",
              "    .dataframe thead th {\n",
              "        text-align: right;\n",
              "    }\n",
              "</style>\n",
              "<table border=\"1\" class=\"dataframe\">\n",
              "  <thead>\n",
              "    <tr style=\"text-align: right;\">\n",
              "      <th></th>\n",
              "      <th>session_position</th>\n",
              "      <th>session_length</th>\n",
              "      <th>no_pause_before_play</th>\n",
              "      <th>hist_user_behavior_is_shuffle</th>\n",
              "      <th>hour_of_day</th>\n",
              "      <th>date</th>\n",
              "      <th>context_type</th>\n",
              "      <th>skipped</th>\n",
              "      <th>duration</th>\n",
              "      <th>release_year</th>\n",
              "      <th>us_popularity_estimate</th>\n",
              "      <th>acousticness</th>\n",
              "      <th>beat_strength</th>\n",
              "      <th>bounciness</th>\n",
              "      <th>danceability</th>\n",
              "      <th>dyn_range_mean</th>\n",
              "      <th>energy</th>\n",
              "      <th>flatness</th>\n",
              "      <th>instrumentalness</th>\n",
              "      <th>key</th>\n",
              "      <th>liveness</th>\n",
              "      <th>loudness</th>\n",
              "      <th>mechanism</th>\n",
              "      <th>mode</th>\n",
              "      <th>organism</th>\n",
              "      <th>speechiness</th>\n",
              "      <th>tempo</th>\n",
              "      <th>time_signature</th>\n",
              "      <th>valence</th>\n",
              "      <th>acoustic_vector_1</th>\n",
              "      <th>acoustic_vector_2</th>\n",
              "      <th>acoustic_vector_3</th>\n",
              "      <th>acoustic_vector_4</th>\n",
              "      <th>acoustic_vector_5</th>\n",
              "      <th>acoustic_vector_7</th>\n",
              "    </tr>\n",
              "  </thead>\n",
              "  <tbody>\n",
              "    <tr>\n",
              "      <th>0</th>\n",
              "      <td>1</td>\n",
              "      <td>20</td>\n",
              "      <td>0</td>\n",
              "      <td>1</td>\n",
              "      <td>16</td>\n",
              "      <td>16</td>\n",
              "      <td>2</td>\n",
              "      <td>0</td>\n",
              "      <td>180.066666</td>\n",
              "      <td>2018</td>\n",
              "      <td>99.968133</td>\n",
              "      <td>0.015848</td>\n",
              "      <td>0.438551</td>\n",
              "      <td>0.473455</td>\n",
              "      <td>0.653119</td>\n",
              "      <td>7.660024</td>\n",
              "      <td>0.553465</td>\n",
              "      <td>1.035007</td>\n",
              "      <td>3.484468e-03</td>\n",
              "      <td>1</td>\n",
              "      <td>0.678553</td>\n",
              "      <td>-6.577</td>\n",
              "      <td>0.546784</td>\n",
              "      <td>0</td>\n",
              "      <td>0.320668</td>\n",
              "      <td>0.069717</td>\n",
              "      <td>134.024994</td>\n",
              "      <td>4</td>\n",
              "      <td>0.152255</td>\n",
              "      <td>0.386409</td>\n",
              "      <td>0.230160</td>\n",
              "      <td>0.028028</td>\n",
              "      <td>-0.333373</td>\n",
              "      <td>0.015452</td>\n",
              "      <td>0.205826</td>\n",
              "    </tr>\n",
              "    <tr>\n",
              "      <th>1</th>\n",
              "      <td>1</td>\n",
              "      <td>20</td>\n",
              "      <td>0</td>\n",
              "      <td>1</td>\n",
              "      <td>16</td>\n",
              "      <td>16</td>\n",
              "      <td>2</td>\n",
              "      <td>0</td>\n",
              "      <td>180.066666</td>\n",
              "      <td>2018</td>\n",
              "      <td>99.968133</td>\n",
              "      <td>0.015848</td>\n",
              "      <td>0.438551</td>\n",
              "      <td>0.473455</td>\n",
              "      <td>0.653119</td>\n",
              "      <td>7.660024</td>\n",
              "      <td>0.553465</td>\n",
              "      <td>1.035007</td>\n",
              "      <td>3.484468e-03</td>\n",
              "      <td>1</td>\n",
              "      <td>0.678553</td>\n",
              "      <td>-6.577</td>\n",
              "      <td>0.546784</td>\n",
              "      <td>0</td>\n",
              "      <td>0.320668</td>\n",
              "      <td>0.069717</td>\n",
              "      <td>134.024994</td>\n",
              "      <td>4</td>\n",
              "      <td>0.152255</td>\n",
              "      <td>0.386409</td>\n",
              "      <td>0.230160</td>\n",
              "      <td>0.028028</td>\n",
              "      <td>-0.333373</td>\n",
              "      <td>0.015452</td>\n",
              "      <td>0.205826</td>\n",
              "    </tr>\n",
              "    <tr>\n",
              "      <th>2</th>\n",
              "      <td>2</td>\n",
              "      <td>20</td>\n",
              "      <td>1</td>\n",
              "      <td>1</td>\n",
              "      <td>16</td>\n",
              "      <td>16</td>\n",
              "      <td>2</td>\n",
              "      <td>0</td>\n",
              "      <td>236.796371</td>\n",
              "      <td>2018</td>\n",
              "      <td>99.896728</td>\n",
              "      <td>0.061811</td>\n",
              "      <td>0.654804</td>\n",
              "      <td>0.735661</td>\n",
              "      <td>0.877393</td>\n",
              "      <td>11.308750</td>\n",
              "      <td>0.726828</td>\n",
              "      <td>1.025636</td>\n",
              "      <td>1.031315e-07</td>\n",
              "      <td>7</td>\n",
              "      <td>0.104322</td>\n",
              "      <td>-5.319</td>\n",
              "      <td>0.824766</td>\n",
              "      <td>1</td>\n",
              "      <td>0.131391</td>\n",
              "      <td>0.061158</td>\n",
              "      <td>130.037994</td>\n",
              "      <td>4</td>\n",
              "      <td>0.337152</td>\n",
              "      <td>0.363718</td>\n",
              "      <td>0.310315</td>\n",
              "      <td>-0.042222</td>\n",
              "      <td>-0.383164</td>\n",
              "      <td>0.066357</td>\n",
              "      <td>0.157920</td>\n",
              "    </tr>\n",
              "    <tr>\n",
              "      <th>3</th>\n",
              "      <td>2</td>\n",
              "      <td>20</td>\n",
              "      <td>1</td>\n",
              "      <td>1</td>\n",
              "      <td>16</td>\n",
              "      <td>16</td>\n",
              "      <td>2</td>\n",
              "      <td>0</td>\n",
              "      <td>236.796371</td>\n",
              "      <td>2018</td>\n",
              "      <td>99.896728</td>\n",
              "      <td>0.061811</td>\n",
              "      <td>0.654804</td>\n",
              "      <td>0.735661</td>\n",
              "      <td>0.877393</td>\n",
              "      <td>11.308750</td>\n",
              "      <td>0.726828</td>\n",
              "      <td>1.025636</td>\n",
              "      <td>1.031315e-07</td>\n",
              "      <td>7</td>\n",
              "      <td>0.104322</td>\n",
              "      <td>-5.319</td>\n",
              "      <td>0.824766</td>\n",
              "      <td>1</td>\n",
              "      <td>0.131391</td>\n",
              "      <td>0.061158</td>\n",
              "      <td>130.037994</td>\n",
              "      <td>4</td>\n",
              "      <td>0.337152</td>\n",
              "      <td>0.363718</td>\n",
              "      <td>0.310315</td>\n",
              "      <td>-0.042222</td>\n",
              "      <td>-0.383164</td>\n",
              "      <td>0.066357</td>\n",
              "      <td>0.157920</td>\n",
              "    </tr>\n",
              "    <tr>\n",
              "      <th>4</th>\n",
              "      <td>3</td>\n",
              "      <td>20</td>\n",
              "      <td>1</td>\n",
              "      <td>1</td>\n",
              "      <td>16</td>\n",
              "      <td>16</td>\n",
              "      <td>2</td>\n",
              "      <td>0</td>\n",
              "      <td>231.266663</td>\n",
              "      <td>2018</td>\n",
              "      <td>99.999976</td>\n",
              "      <td>0.354116</td>\n",
              "      <td>0.532155</td>\n",
              "      <td>0.540411</td>\n",
              "      <td>0.679719</td>\n",
              "      <td>8.065802</td>\n",
              "      <td>0.563009</td>\n",
              "      <td>1.029465</td>\n",
              "      <td>2.659035e-08</td>\n",
              "      <td>10</td>\n",
              "      <td>0.135776</td>\n",
              "      <td>-5.843</td>\n",
              "      <td>0.774327</td>\n",
              "      <td>0</td>\n",
              "      <td>0.296923</td>\n",
              "      <td>0.045354</td>\n",
              "      <td>145.028000</td>\n",
              "      <td>4</td>\n",
              "      <td>0.373862</td>\n",
              "      <td>0.375599</td>\n",
              "      <td>0.252660</td>\n",
              "      <td>-0.049007</td>\n",
              "      <td>-0.299745</td>\n",
              "      <td>0.063341</td>\n",
              "      <td>0.181604</td>\n",
              "    </tr>\n",
              "  </tbody>\n",
              "</table>\n",
              "</div>\n",
              "      <button class=\"colab-df-convert\" onclick=\"convertToInteractive('df-02d64ec7-6e06-43e7-873e-a5c333e85fab')\"\n",
              "              title=\"Convert this dataframe to an interactive table.\"\n",
              "              style=\"display:none;\">\n",
              "        \n",
              "  <svg xmlns=\"http://www.w3.org/2000/svg\" height=\"24px\"viewBox=\"0 0 24 24\"\n",
              "       width=\"24px\">\n",
              "    <path d=\"M0 0h24v24H0V0z\" fill=\"none\"/>\n",
              "    <path d=\"M18.56 5.44l.94 2.06.94-2.06 2.06-.94-2.06-.94-.94-2.06-.94 2.06-2.06.94zm-11 1L8.5 8.5l.94-2.06 2.06-.94-2.06-.94L8.5 2.5l-.94 2.06-2.06.94zm10 10l.94 2.06.94-2.06 2.06-.94-2.06-.94-.94-2.06-.94 2.06-2.06.94z\"/><path d=\"M17.41 7.96l-1.37-1.37c-.4-.4-.92-.59-1.43-.59-.52 0-1.04.2-1.43.59L10.3 9.45l-7.72 7.72c-.78.78-.78 2.05 0 2.83L4 21.41c.39.39.9.59 1.41.59.51 0 1.02-.2 1.41-.59l7.78-7.78 2.81-2.81c.8-.78.8-2.07 0-2.86zM5.41 20L4 18.59l7.72-7.72 1.47 1.35L5.41 20z\"/>\n",
              "  </svg>\n",
              "      </button>\n",
              "      \n",
              "  <style>\n",
              "    .colab-df-container {\n",
              "      display:flex;\n",
              "      flex-wrap:wrap;\n",
              "      gap: 12px;\n",
              "    }\n",
              "\n",
              "    .colab-df-convert {\n",
              "      background-color: #E8F0FE;\n",
              "      border: none;\n",
              "      border-radius: 50%;\n",
              "      cursor: pointer;\n",
              "      display: none;\n",
              "      fill: #1967D2;\n",
              "      height: 32px;\n",
              "      padding: 0 0 0 0;\n",
              "      width: 32px;\n",
              "    }\n",
              "\n",
              "    .colab-df-convert:hover {\n",
              "      background-color: #E2EBFA;\n",
              "      box-shadow: 0px 1px 2px rgba(60, 64, 67, 0.3), 0px 1px 3px 1px rgba(60, 64, 67, 0.15);\n",
              "      fill: #174EA6;\n",
              "    }\n",
              "\n",
              "    [theme=dark] .colab-df-convert {\n",
              "      background-color: #3B4455;\n",
              "      fill: #D2E3FC;\n",
              "    }\n",
              "\n",
              "    [theme=dark] .colab-df-convert:hover {\n",
              "      background-color: #434B5C;\n",
              "      box-shadow: 0px 1px 3px 1px rgba(0, 0, 0, 0.15);\n",
              "      filter: drop-shadow(0px 1px 2px rgba(0, 0, 0, 0.3));\n",
              "      fill: #FFFFFF;\n",
              "    }\n",
              "  </style>\n",
              "\n",
              "      <script>\n",
              "        const buttonEl =\n",
              "          document.querySelector('#df-02d64ec7-6e06-43e7-873e-a5c333e85fab button.colab-df-convert');\n",
              "        buttonEl.style.display =\n",
              "          google.colab.kernel.accessAllowed ? 'block' : 'none';\n",
              "\n",
              "        async function convertToInteractive(key) {\n",
              "          const element = document.querySelector('#df-02d64ec7-6e06-43e7-873e-a5c333e85fab');\n",
              "          const dataTable =\n",
              "            await google.colab.kernel.invokeFunction('convertToInteractive',\n",
              "                                                     [key], {});\n",
              "          if (!dataTable) return;\n",
              "\n",
              "          const docLinkHtml = 'Like what you see? Visit the ' +\n",
              "            '<a target=\"_blank\" href=https://colab.research.google.com/notebooks/data_table.ipynb>data table notebook</a>'\n",
              "            + ' to learn more about interactive tables.';\n",
              "          element.innerHTML = '';\n",
              "          dataTable['output_type'] = 'display_data';\n",
              "          await google.colab.output.renderOutput(dataTable, element);\n",
              "          const docLink = document.createElement('div');\n",
              "          docLink.innerHTML = docLinkHtml;\n",
              "          element.appendChild(docLink);\n",
              "        }\n",
              "      </script>\n",
              "    </div>\n",
              "  </div>\n",
              "  "
            ],
            "text/plain": [
              "   session_position  session_length  ...  acoustic_vector_5  acoustic_vector_7\n",
              "0                 1              20  ...           0.015452           0.205826\n",
              "1                 1              20  ...           0.015452           0.205826\n",
              "2                 2              20  ...           0.066357           0.157920\n",
              "3                 2              20  ...           0.066357           0.157920\n",
              "4                 3              20  ...           0.063341           0.181604\n",
              "\n",
              "[5 rows x 35 columns]"
            ]
          },
          "execution_count": null,
          "metadata": {},
          "output_type": "execute_result"
        }
      ],
      "source": [
        "df1.head(5)"
      ]
    },
    {
      "cell_type": "code",
      "execution_count": null,
      "metadata": {
        "colab": {
          "background_save": true
        },
        "id": "TKqqXiGSbfoX",
        "outputId": "582870c6-4568-4823-927d-d376bc9c8229"
      },
      "outputs": [
        {
          "data": {
            "text/plain": [
              "(335760, 35)"
            ]
          },
          "execution_count": null,
          "metadata": {},
          "output_type": "execute_result"
        }
      ],
      "source": [
        "df1.shape"
      ]
    },
    {
      "cell_type": "code",
      "execution_count": null,
      "metadata": {
        "colab": {
          "background_save": true
        },
        "id": "L_2SuEXL_6lv",
        "outputId": "2a690312-610b-42fa-cf4c-e618326bcfcb"
      },
      "outputs": [
        {
          "data": {
            "text/plain": [
              "0    194236\n",
              "1    141524\n",
              "Name: skipped, dtype: int64"
            ]
          },
          "execution_count": null,
          "metadata": {},
          "output_type": "execute_result"
        }
      ],
      "source": [
        "df1['skipped'].value_counts()"
      ]
    },
    {
      "cell_type": "code",
      "execution_count": null,
      "metadata": {
        "colab": {
          "background_save": true
        },
        "id": "cVK1DQG6Advo",
        "outputId": "183a3ae0-4acb-4114-fdc1-015e3012ea83"
      },
      "outputs": [
        {
          "data": {
            "image/png": "[encoded data removed]",
            "text/plain": [
              "<Figure size 432x288 with 1 Axes>"
            ]
          },
          "metadata": {},
          "output_type": "display_data"
        }
      ],
      "source": [
        "sns.countplot(x='skipped',data=df1)\n",
        "plt.show()"
      ]
    },
    {
      "cell_type": "code",
      "execution_count": null,
      "metadata": {
        "colab": {
          "background_save": true
        },
        "id": "F9IxwGAGbiT8"
      },
      "outputs": [],
      "source": [
        "#splitting the data\n",
        "X = df1.drop(columns=[\"skipped\"]).fillna(-9999)\n",
        "y=df1.skipped"
      ]
    },
    {
      "cell_type": "code",
      "execution_count": null,
      "metadata": {
        "colab": {
          "background_save": true
        },
        "id": "niC8IIDV1e_R"
      },
      "outputs": [],
      "source": [
        "# Training set and Testing set\n",
        "from sklearn.model_selection import train_test_split\n",
        " \n",
        "X_train, X_test, y_train, y_test = train_test_split(X, y, test_size = 0.2, random_state = 0)"
      ]
    },
    {
      "cell_type": "code",
      "execution_count": null,
      "metadata": {
        "colab": {
          "background_save": true
        },
        "id": "jzk2JqLw1qsm"
      },
      "outputs": [],
      "source": [
        "\n",
        "#feature scaling\n",
        "from sklearn.preprocessing import StandardScaler\n",
        "scaler=StandardScaler()\n",
        "x_train=scaler.fit_transform(X_train)\n",
        "x_test=scaler.transform(X_test)"
      ]
    },
    {
      "cell_type": "code",
      "execution_count": null,
      "metadata": {
        "colab": {
          "background_save": true
        },
        "id": "BURpUQ3r1zhk"
      },
      "outputs": [],
      "source": [
        "# Applying PCA function on training\n",
        "# and testing set of X component\n",
        "from sklearn.decomposition import PCA\n",
        " \n",
        "pca = PCA(n_components = 2)\n",
        " \n",
        "X_train = pca.fit_transform(X_train)\n",
        "X_test = pca.transform(X_test)\n",
        " \n",
        "explained_variance = pca.explained_variance_ratio_"
      ]
    },
    {
      "cell_type": "code",
      "execution_count": null,
      "metadata": {
        "colab": {
          "background_save": true
        },
        "id": "caUn4zee16md",
        "outputId": "d12f0cae-f778-4381-a1c4-f8449bfe4cbb"
      },
      "outputs": [
        {
          "data": {
            "text/plain": [
              "0.9561429054564095"
            ]
          },
          "execution_count": null,
          "metadata": {},
          "output_type": "execute_result"
        }
      ],
      "source": [
        "sum(explained_variance)"
      ]
    },
    {
      "cell_type": "code",
      "execution_count": null,
      "metadata": {
        "colab": {
          "background_save": true
        },
        "id": "F98lra1087z6",
        "outputId": "47e11c53-c8b3-4660-de8e-fd1460de4d8f"
      },
      "outputs": [
        {
          "data": {
            "text/plain": [
              "2"
            ]
          },
          "execution_count": null,
          "metadata": {},
          "output_type": "execute_result"
        }
      ],
      "source": [
        "pca.n_components"
      ]
    },
    {
      "cell_type": "markdown",
      "metadata": {
        "id": "7diAchE0cvL0"
      },
      "source": [
        "Logistic regression"
      ]
    },
    {
      "cell_type": "code",
      "execution_count": null,
      "metadata": {
        "colab": {
          "background_save": true
        },
        "id": "5hwLsKd5284b"
      },
      "outputs": [],
      "source": [
        "#Model fitting\n",
        "from sklearn.linear_model import LogisticRegression\n",
        "lgmodel=LogisticRegression()\n",
        "lgmodel.fit(X_train,y_train)\n",
        "lgpred=lgmodel.predict(X_test)\n",
        "lg_probability =lgmodel.predict_proba(X_test)[:,1]"
      ]
    },
    {
      "cell_type": "code",
      "execution_count": null,
      "metadata": {
        "colab": {
          "background_save": true
        },
        "id": "pMuJ35Dz3f99",
        "outputId": "41954538-175e-49c7-ac9b-2769f310f41c"
      },
      "outputs": [
        {
          "name": "stdout",
          "output_type": "stream",
          "text": [
            "Accuracy :  0.5806528472718608\n",
            "ROC_AUC Score: 0.5002286847525179\n"
          ]
        }
      ],
      "source": [
        "from sklearn.metrics import precision_score,recall_score,accuracy_score,f1_score,confusion_matrix,roc_auc_score,classification_report\n",
        "acc_lg=accuracy_score(y_test,lgpred)\n",
        "recall_lg=recall_score(y_test,lgpred)\n",
        "precision_lg=precision_score(y_test,lgpred)\n",
        "f1score_lg=f1_score(y_test,lgpred)\n",
        "AUC_LR=roc_auc_score(y_test,lgpred)\n",
        "#print accuracy and Auc values of model\n",
        "print(\"Accuracy : \", accuracy_score(y_test,lgpred))\n",
        "print(\"ROC_AUC Score:\",AUC_LR)\n"
      ]
    },
    {
      "cell_type": "code",
      "execution_count": null,
      "metadata": {
        "colab": {
          "background_save": true
        },
        "id": "GQEdHsMk4JZg",
        "outputId": "9bf8fef3-9d2a-4024-cefa-194b22e253e6"
      },
      "outputs": [
        {
          "name": "stdout",
          "output_type": "stream",
          "text": [
            "              precision    recall  f1-score   support\n",
            "\n",
            "           0       0.58      1.00      0.73     38983\n",
            "           1       0.62      0.00      0.00     28169\n",
            "\n",
            "    accuracy                           0.58     67152\n",
            "   macro avg       0.60      0.50      0.37     67152\n",
            "weighted avg       0.60      0.58      0.43     67152\n",
            "\n"
          ]
        }
      ],
      "source": [
        "print(classification_report(y_test,lgpred))"
      ]
    },
    {
      "cell_type": "code",
      "execution_count": null,
      "metadata": {
        "colab": {
          "background_save": true
        },
        "id": "5rKrincheEIt",
        "outputId": "25619760-5b53-4194-cfcd-01ef6b1e24ea"
      },
      "outputs": [
        {
          "data": {
            "image/png": "[encoded data removed]",
            "text/plain": [
              "<Figure size 432x288 with 1 Axes>"
            ]
          },
          "metadata": {},
          "output_type": "display_data"
        }
      ],
      "source": [
        "from sklearn.metrics import roc_curve\n",
        "fpr, tpr, _ = roc_curve(y_test, lg_probability)\n",
        "\n",
        "plt.title('Linear Regression ROC curve')\n",
        "plt.xlabel('FPR (Precision)')\n",
        "plt.ylabel('TPR (Recall)')\n",
        "\n",
        "plt.plot(fpr,tpr)\n",
        "plt.plot((0,1), ls='dashed',color='black')\n",
        "plt.show()"
      ]
    },
    {
      "cell_type": "code",
      "execution_count": null,
      "metadata": {
        "colab": {
          "background_save": true
        },
        "id": "CkirY7lf48e2",
        "outputId": "01870121-9305-48ca-cf46-c4cf5b5b3d5a"
      },
      "outputs": [
        {
          "name": "stdout",
          "output_type": "stream",
          "text": [
            "[[38969    14]\n",
            " [28146    23]]\n"
          ]
        },
        {
          "data": {
            "image/png": "[encoded data removed]",
            "text/plain": [
              "<Figure size 432x288 with 2 Axes>"
            ]
          },
          "metadata": {},
          "output_type": "display_data"
        }
      ],
      "source": [
        "cm=confusion_matrix(y_test,lgpred)\n",
        "print(cm)\n",
        "sns.heatmap(cm,annot=True,cmap='BuPu')\n",
        "plt.show()"
      ]
    },
    {
      "cell_type": "markdown",
      "metadata": {
        "id": "uC_3HnV0LjpA"
      },
      "source": [
        "Decision tree classifier"
      ]
    },
    {
      "cell_type": "code",
      "execution_count": null,
      "metadata": {
        "colab": {
          "background_save": true
        },
        "id": "jXKIWExQLfha",
        "outputId": "c380d4a0-7639-4a12-8951-21204fb9fd23"
      },
      "outputs": [
        {
          "data": {
            "text/plain": [
              "DecisionTreeClassifier()"
            ]
          },
          "execution_count": null,
          "metadata": {},
          "output_type": "execute_result"
        }
      ],
      "source": [
        "#fitting training set into model\n",
        "from sklearn.tree import DecisionTreeClassifier\n",
        "dt_model=DecisionTreeClassifier(criterion=\"gini\")\n",
        "dt_model.fit(X_train,y_train)"
      ]
    },
    {
      "cell_type": "code",
      "execution_count": null,
      "metadata": {
        "colab": {
          "background_save": true
        },
        "id": "4SxJpivFLhgU",
        "outputId": "d5ca0e9b-7be3-4a6b-e4fc-beb2d6c3fd9e"
      },
      "outputs": [
        {
          "name": "stdout",
          "output_type": "stream",
          "text": [
            "0.895818441744103\n",
            "ROC_AUC Score: 0.8929588482731771\n"
          ]
        }
      ],
      "source": [
        "from sklearn.metrics import precision_score,recall_score,accuracy_score,f1_score,confusion_matrix,roc_auc_score,classification_report\n",
        "dtpred=dt_model.predict(X_test)\n",
        "dt_probability = dt_model.predict_proba(X_test)[:,1]\n",
        "AUC_DT=roc_auc_score(dtpred,y_test)\n",
        "acc_dtree=accuracy_score(y_test,dtpred)\n",
        "recall_dt=recall_score(y_test,dtpred)\n",
        "precision_dt=precision_score(y_test,dtpred)\n",
        "f1score_dt=f1_score(y_test,dtpred)\n",
        "\n",
        "print(accuracy_score(dtpred,y_test))\n",
        "print(\"ROC_AUC Score:\",AUC_DT)"
      ]
    },
    {
      "cell_type": "code",
      "execution_count": null,
      "metadata": {
        "colab": {
          "background_save": true
        },
        "id": "ZQrisJ4YLiWV",
        "outputId": "a763efa5-0ffa-4b56-f3a8-05f311eb4fe3"
      },
      "outputs": [
        {
          "name": "stdout",
          "output_type": "stream",
          "text": [
            "              precision    recall  f1-score   support\n",
            "\n",
            "           0       0.91      0.91      0.91     38921\n",
            "           1       0.88      0.87      0.88     28231\n",
            "\n",
            "    accuracy                           0.90     67152\n",
            "   macro avg       0.89      0.89      0.89     67152\n",
            "weighted avg       0.90      0.90      0.90     67152\n",
            "\n"
          ]
        }
      ],
      "source": [
        "print(classification_report(dtpred,y_test))\n"
      ]
    },
    {
      "cell_type": "code",
      "execution_count": null,
      "metadata": {
        "colab": {
          "background_save": true
        },
        "id": "G1CeJ7r1e2sp",
        "outputId": "25276801-cc70-4ecf-bd2c-392c00aafc20"
      },
      "outputs": [
        {
          "data": {
            "image/png": "[encoded data removed]",
            "text/plain": [
              "<Figure size 432x288 with 1 Axes>"
            ]
          },
          "metadata": {},
          "output_type": "display_data"
        }
      ],
      "source": [
        "from sklearn.metrics import roc_curve\n",
        "fpr, tpr, _ = roc_curve(y_test, dt_probability)\n",
        "\n",
        "plt.title('Decsion tree ROC curve')\n",
        "plt.xlabel('FPR (Precision)')\n",
        "plt.ylabel('TPR (Recall)')\n",
        "\n",
        "plt.plot(fpr,tpr)\n",
        "plt.plot((0,1), ls='dashed',color='black')\n",
        "plt.show()"
      ]
    },
    {
      "cell_type": "code",
      "execution_count": null,
      "metadata": {
        "colab": {
          "background_save": true
        },
        "id": "PMRzj08DOlXa",
        "outputId": "765ddbda-b9bd-4141-c846-06ddb0cffc48"
      },
      "outputs": [
        {
          "name": "stdout",
          "output_type": "stream",
          "text": [
            "[[35454  3467]\n",
            " [ 3529 24702]]\n"
          ]
        },
        {
          "data": {
            "image/png": "[encoded data removed]",
            "text/plain": [
              "<Figure size 432x288 with 2 Axes>"
            ]
          },
          "metadata": {},
          "output_type": "display_data"
        }
      ],
      "source": [
        "cm=confusion_matrix(dtpred,y_test)\n",
        "print(cm)\n",
        "sns.heatmap(cm,annot=True,cmap='RdPu')\n",
        "plt.show()"
      ]
    },
    {
      "cell_type": "markdown",
      "metadata": {
        "id": "HVNQ5-y-LbC9"
      },
      "source": [
        "Random forest"
      ]
    },
    {
      "cell_type": "code",
      "execution_count": null,
      "metadata": {
        "colab": {
          "background_save": true
        },
        "id": "YhY0EqK55dFJ"
      },
      "outputs": [],
      "source": [
        "from sklearn.ensemble import RandomForestClassifier\n",
        "\n",
        "randommodl = RandomForestClassifier()\n",
        "randommodl.fit(X_train, y_train)\n",
        "randompred = randommodl.predict(X_test)"
      ]
    },
    {
      "cell_type": "code",
      "execution_count": null,
      "metadata": {
        "colab": {
          "background_save": true
        },
        "id": "YKErbEk-53yY",
        "outputId": "7e5be7bc-45f1-4d18-ae59-3a88852012ae"
      },
      "outputs": [
        {
          "name": "stdout",
          "output_type": "stream",
          "text": [
            "0.8982606623778889\n",
            "ROC_AUC Score: 0.8958441981298734\n"
          ]
        }
      ],
      "source": [
        "from sklearn.metrics import precision_score,recall_score,accuracy_score,f1_score,confusion_matrix,roc_auc_score,classification_report\n",
        "\n",
        "RF_probability = randommodl.predict_proba(X_test)[:,1]\n",
        "AUC_RF=roc_auc_score(randompred,y_test)\n",
        "acc_random=accuracy_score(y_test,randompred)\n",
        "recall_random=recall_score(y_test,randompred)\n",
        "precision_random=precision_score(y_test,randompred)\n",
        "f1score_rf=f1_score(y_test,randompred)\n",
        "\n",
        "print(accuracy_score(randompred,y_test))\n",
        "print(\"ROC_AUC Score:\",AUC_RF)\n"
      ]
    },
    {
      "cell_type": "code",
      "execution_count": null,
      "metadata": {
        "colab": {
          "background_save": true
        },
        "id": "2DSO0FMd6N9_",
        "outputId": "2f5f8f90-61b1-4788-85e9-c339203cb37e"
      },
      "outputs": [
        {
          "name": "stdout",
          "output_type": "stream",
          "text": [
            "              precision    recall  f1-score   support\n",
            "\n",
            "           0       0.91      0.91      0.91     39177\n",
            "           1       0.88      0.88      0.88     27975\n",
            "\n",
            "    accuracy                           0.90     67152\n",
            "   macro avg       0.90      0.90      0.90     67152\n",
            "weighted avg       0.90      0.90      0.90     67152\n",
            "\n"
          ]
        }
      ],
      "source": [
        "print(classification_report(randompred,y_test))\n"
      ]
    },
    {
      "cell_type": "code",
      "execution_count": null,
      "metadata": {
        "colab": {
          "background_save": true
        },
        "id": "5768CmtWeWb_",
        "outputId": "b082e7c2-c0ae-4022-d2d4-c2cf2527b1b1"
      },
      "outputs": [
        {
          "data": {
            "image/png": "[encoded data removed]",
            "text/plain": [
              "<Figure size 432x288 with 1 Axes>"
            ]
          },
          "metadata": {},
          "output_type": "display_data"
        }
      ],
      "source": [
        "from sklearn.metrics import roc_curve\n",
        "fpr, tpr, _ = roc_curve(y_test, RF_probability)\n",
        "\n",
        "plt.title('Random forest ROC curve')\n",
        "plt.xlabel('FPR (Precision)')\n",
        "plt.ylabel('TPR (Recall)')\n",
        "\n",
        "plt.plot(fpr,tpr)\n",
        "plt.plot((0,1), ls='dashed',color='black')\n",
        "plt.show()"
      ]
    },
    {
      "cell_type": "code",
      "execution_count": null,
      "metadata": {
        "colab": {
          "background_save": true
        },
        "id": "7gd9WcEI_NZB",
        "outputId": "85e1f39a-b60a-4b3f-a491-d2d0beab40e8"
      },
      "outputs": [
        {
          "name": "stdout",
          "output_type": "stream",
          "text": [
            "[[35664  3513]\n",
            " [ 3319 24656]]\n"
          ]
        },
        {
          "data": {
            "image/png": "[encoded data removed]",
            "text/plain": [
              "<Figure size 432x288 with 2 Axes>"
            ]
          },
          "metadata": {},
          "output_type": "display_data"
        }
      ],
      "source": [
        "cm=confusion_matrix(randompred,y_test)\n",
        "print(cm)\n",
        "sns.heatmap(cm,annot=True,cmap='RdPu')\n",
        "plt.show()"
      ]
    },
    {
      "cell_type": "markdown",
      "metadata": {
        "id": "6llwTnFEXvbX"
      },
      "source": [
        "XGB Classifier"
      ]
    },
    {
      "cell_type": "code",
      "execution_count": null,
      "metadata": {
        "colab": {
          "background_save": true
        },
        "id": "GRvucezFLEqf",
        "outputId": "833f2bc8-6178-412f-95e8-c5246e1386d6"
      },
      "outputs": [
        {
          "name": "stdout",
          "output_type": "stream",
          "text": [
            "0.5813378603764594\n",
            "ROC_AUC Score: 0.6063799760518964\n"
          ]
        }
      ],
      "source": [
        "from xgboost import XGBClassifier\n",
        "xgb=XGBClassifier()\n",
        "xgb.fit(X_train, y_train)\n",
        "y_predict = xgb.predict(X_test)\n",
        "XGB_probability =xgb.predict_proba(X_test)[:,1]\n",
        "\n",
        "acc_xgb=accuracy_score(y_test,y_predict)\n",
        "recall_xgb=recall_score(y_test,y_predict)\n",
        "precision_xgb=precision_score(y_test,y_predict)\n",
        "f1score_xgb=f1_score(y_test,y_predict)\n",
        "\n",
        "AUC_xgb=roc_auc_score(y_predict,y_test)\n",
        "\n",
        "\n",
        "print(accuracy_score(y_predict,y_test))\n",
        "print(\"ROC_AUC Score:\",AUC_xgb)"
      ]
    },
    {
      "cell_type": "code",
      "execution_count": null,
      "metadata": {
        "colab": {
          "background_save": true
        },
        "id": "hNzGwPouX96L",
        "outputId": "35388941-9822-43bd-9cde-c297762c00ac"
      },
      "outputs": [
        {
          "name": "stdout",
          "output_type": "stream",
          "text": [
            "              precision    recall  f1-score   support\n",
            "\n",
            "           0       1.00      0.58      0.73     66943\n",
            "           1       0.00      0.63      0.01       209\n",
            "\n",
            "    accuracy                           0.58     67152\n",
            "   macro avg       0.50      0.61      0.37     67152\n",
            "weighted avg       0.99      0.58      0.73     67152\n",
            "\n"
          ]
        }
      ],
      "source": [
        "print(classification_report(y_predict,y_test))"
      ]
    },
    {
      "cell_type": "code",
      "execution_count": null,
      "metadata": {
        "colab": {
          "background_save": true
        },
        "id": "9UhjS0bTYXu8",
        "outputId": "33fb0399-1c2f-468a-f4fa-84839798eb51"
      },
      "outputs": [
        {
          "data": {
            "image/png": "[encoded data removed]",
            "text/plain": [
              "<Figure size 432x288 with 1 Axes>"
            ]
          },
          "metadata": {},
          "output_type": "display_data"
        }
      ],
      "source": [
        "from sklearn.metrics import roc_curve\n",
        "fpr, tpr, _ = roc_curve(y_test, XGB_probability)\n",
        "\n",
        "plt.title('XGBoost ROC curve')\n",
        "plt.xlabel('FPR (Precision)')\n",
        "plt.ylabel('TPR (Recall)')\n",
        "\n",
        "plt.plot(fpr,tpr)\n",
        "plt.plot((0,1), ls='dashed',color='black')\n",
        "plt.show()"
      ]
    },
    {
      "cell_type": "code",
      "execution_count": null,
      "metadata": {
        "colab": {
          "background_save": true
        },
        "id": "GH9It8QNYgnW",
        "outputId": "ef51b37f-bea2-4fd9-f322-02e99e81e3e4"
      },
      "outputs": [
        {
          "name": "stdout",
          "output_type": "stream",
          "text": [
            "[[38906    77]\n",
            " [28037   132]]\n"
          ]
        },
        {
          "data": {
            "text/plain": [
              "<matplotlib.axes._subplots.AxesSubplot at 0x7f79c9d71410>"
            ]
          },
          "execution_count": null,
          "metadata": {},
          "output_type": "execute_result"
        },
        {
          "data": {
            "image/png": "[encoded data removed]",
            "text/plain": [
              "<Figure size 432x288 with 2 Axes>"
            ]
          },
          "metadata": {},
          "output_type": "display_data"
        }
      ],
      "source": [
        "#it helps to identify how many values are classified correctly\n",
        "cm=confusion_matrix(y_test,y_predict)\n",
        "print(cm)\n",
        "sns.heatmap(cm,annot=True,cmap='GnBu')"
      ]
    },
    {
      "cell_type": "markdown",
      "metadata": {
        "id": "I6aq_h2SwUhd"
      },
      "source": [
        "The ML model for the problem statement was created using python with the help of the dataset, and the ML model created with Random Forest and DecisiontreeClassifier models performed better than Logistics Regression model. Thus, for the given problem, the models created by Random Forest and DecisiontreeClassifier."
      ]
    },
    {
      "cell_type": "code",
      "execution_count": null,
      "metadata": {
        "colab": {
          "background_save": true
        },
        "id": "NE2LpouSYrOv"
      },
      "outputs": [],
      "source": [
        ""
      ]
    }
  ],
  "metadata": {
    "colab": {
      "name": "spotify music data.ipynb",
      "provenance": []
    },
    "kernelspec": {
      "display_name": "Python 3",
      "name": "python3"
    },
    "language_info": {
      "name": "python"
    }
  },
  "nbformat": 4,
  "nbformat_minor": 0
}